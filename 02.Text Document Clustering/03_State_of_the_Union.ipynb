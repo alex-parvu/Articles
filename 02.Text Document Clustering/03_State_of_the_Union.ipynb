{
 "cells": [
  {
   "cell_type": "code",
   "execution_count": 77,
   "id": "f54bea62-8c0a-4e08-b50c-b35d09900413",
   "metadata": {},
   "outputs": [],
   "source": [
    "import os\n",
    "import pandas as pd"
   ]
  },
  {
   "cell_type": "code",
   "execution_count": 83,
   "id": "8abe323d-7777-4d88-95e7-cf2efbd2138b",
   "metadata": {},
   "outputs": [],
   "source": [
    "files = os.listdir('sotu/sotu/')\n",
    "files = filter(lambda x: '.txt'in x, files)\n",
    "files = list(files)"
   ]
  },
  {
   "cell_type": "code",
   "execution_count": 81,
   "id": "8e44035b-e2bd-4028-a053-ad782c4a9bde",
   "metadata": {},
   "outputs": [
    {
     "ename": "PermissionError",
     "evalue": "[Errno 13] Permission denied: 'sotu/sotu/.ipynb_checkpoints'",
     "output_type": "error",
     "traceback": [
      "\u001b[1;31m---------------------------------------------------------------------------\u001b[0m",
      "\u001b[1;31mPermissionError\u001b[0m                           Traceback (most recent call last)",
      "Input \u001b[1;32mIn [81]\u001b[0m, in \u001b[0;36m<cell line: 5>\u001b[1;34m()\u001b[0m\n\u001b[0;32m      3\u001b[0m years \u001b[38;5;241m=\u001b[39m []\n\u001b[0;32m      5\u001b[0m \u001b[38;5;28;01mfor\u001b[39;00m file \u001b[38;5;129;01min\u001b[39;00m files:\n\u001b[1;32m----> 7\u001b[0m     \u001b[38;5;28;01mwith\u001b[39;00m \u001b[38;5;28;43mopen\u001b[39;49m\u001b[43m(\u001b[49m\u001b[43mfile\u001b[49m\u001b[38;5;241;43m=\u001b[39;49m\u001b[38;5;124;43mf\u001b[39;49m\u001b[38;5;124;43m'\u001b[39;49m\u001b[38;5;124;43msotu/sotu/\u001b[39;49m\u001b[38;5;132;43;01m{\u001b[39;49;00m\u001b[43mfiles\u001b[49m\u001b[43m[\u001b[49m\u001b[38;5;241;43m0\u001b[39;49m\u001b[43m]\u001b[49m\u001b[38;5;132;43;01m}\u001b[39;49;00m\u001b[38;5;124;43m'\u001b[39;49m\u001b[43m)\u001b[49m \u001b[38;5;28;01mas\u001b[39;00m f:\n\u001b[0;32m      8\u001b[0m         lines \u001b[38;5;241m=\u001b[39m f\u001b[38;5;241m.\u001b[39mread()\n\u001b[0;32m     10\u001b[0m     President \u001b[38;5;241m=\u001b[39m file[:\u001b[38;5;241m-\u001b[39m\u001b[38;5;241m9\u001b[39m]\n",
      "\u001b[1;31mPermissionError\u001b[0m: [Errno 13] Permission denied: 'sotu/sotu/.ipynb_checkpoints'"
     ]
    }
   ],
   "source": [
    "text = []\n",
    "presidents = []\n",
    "years = []\n",
    "\n",
    "for file in files:\n",
    "\n",
    "    with open(file=f'sotu/sotu/{files[0]}') as f:\n",
    "        lines = f.read()\n",
    "\n",
    "    President = file[:-9]\n",
    "    year = file[-8:-4]\n",
    "    \n",
    "    text.append(lines)\n",
    "    presidents.append(President)\n",
    "    years.append(year)"
   ]
  },
  {
   "cell_type": "code",
   "execution_count": 58,
   "id": "6179feaf-e204-4673-b3f1-72966bd56d53",
   "metadata": {},
   "outputs": [
    {
     "data": {
      "text/plain": [
       "(228, 228, 228)"
      ]
     },
     "execution_count": 58,
     "metadata": {},
     "output_type": "execute_result"
    }
   ],
   "source": [
    "len(text), len(presidents) , len(years)"
   ]
  },
  {
   "cell_type": "code",
   "execution_count": 74,
   "id": "6452e1d2-483e-480f-8743-433e370ecdcb",
   "metadata": {},
   "outputs": [],
   "source": [
    "sotu = {'president' : presidents\n",
    "       , 'year': years\n",
    "       , 'sotu': text}\n",
    "\n",
    "sotu = pd.DataFrame(sotu)\n",
    "sotu = sotu.sort_values(by='year')\n",
    "sotu = sotu.reset_index(drop=True)"
   ]
  },
  {
   "cell_type": "code",
   "execution_count": 75,
   "id": "15a305c4-c59e-40e4-b29a-26bb3b16b16f",
   "metadata": {},
   "outputs": [],
   "source": [
    "sotu.to_csv('sotu.csv', index=False)"
   ]
  },
  {
   "cell_type": "code",
   "execution_count": null,
   "id": "5d3a71b0-0938-48d2-9b96-724139de096a",
   "metadata": {},
   "outputs": [],
   "source": []
  },
  {
   "cell_type": "code",
   "execution_count": null,
   "id": "f5258388-19c9-4c40-be6d-0bdf8f95beb9",
   "metadata": {},
   "outputs": [],
   "source": []
  },
  {
   "cell_type": "code",
   "execution_count": null,
   "id": "ae20f520-3831-43cf-a0ad-9c2745d13b51",
   "metadata": {},
   "outputs": [],
   "source": []
  }
 ],
 "metadata": {
  "kernelspec": {
   "display_name": "Python 3 (ipykernel)",
   "language": "python",
   "name": "python3"
  },
  "language_info": {
   "codemirror_mode": {
    "name": "ipython",
    "version": 3
   },
   "file_extension": ".py",
   "mimetype": "text/x-python",
   "name": "python",
   "nbconvert_exporter": "python",
   "pygments_lexer": "ipython3",
   "version": "3.10.2"
  }
 },
 "nbformat": 4,
 "nbformat_minor": 5
}
